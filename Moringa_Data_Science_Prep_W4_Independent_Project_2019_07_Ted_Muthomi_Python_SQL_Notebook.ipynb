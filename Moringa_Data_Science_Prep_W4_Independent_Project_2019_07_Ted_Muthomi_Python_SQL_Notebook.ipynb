{
  "nbformat": 4,
  "nbformat_minor": 0,
  "metadata": {
    "colab": {
      "name": "Moringa_Data_Science_Prep_W4_Independent_Project_2019_07_Ted_Muthomi_Python/SQL_Notebook",
      "version": "0.3.2",
      "provenance": [],
      "toc_visible": true,
      "include_colab_link": true
    },
    "kernelspec": {
      "name": "python3",
      "display_name": "Python 3"
    }
  },
  "cells": [
    {
      "cell_type": "markdown",
      "metadata": {
        "id": "view-in-github",
        "colab_type": "text"
      },
      "source": [
        "<a href=\"https://colab.research.google.com/github/MuthomiTed/Electric-Car-Usage-over-Time/blob/master/Moringa_Data_Science_Prep_W4_Independent_Project_2019_07_Ted_Muthomi_Python_SQL_Notebook.ipynb\" target=\"_parent\"><img src=\"https://colab.research.google.com/assets/colab-badge.svg\" alt=\"Open In Colab\"/></a>"
      ]
    },
    {
      "cell_type": "markdown",
      "metadata": {
        "id": "QCxzMr0C5nj0",
        "colab_type": "text"
      },
      "source": [
        "# <font color = \"black\"> WEEK 4: INDEPENDENT PROJECT"
      ]
    },
    {
      "cell_type": "markdown",
      "metadata": {
        "id": "TCpAP4516Tf_",
        "colab_type": "text"
      },
      "source": [
        "## <font  color = \"green\"> Project Description"
      ]
    },
    {
      "cell_type": "markdown",
      "metadata": {
        "id": "OnMGb5mOPew-",
        "colab_type": "text"
      },
      "source": [
        " As a data scientist working for an electric car-sharing service company, process stations data to understand electric car usage over time by solving for the following research question;\n",
        " \n",
        " Research Question:\n",
        "\n",
        "##Identify the most popular hour of the day for picking up a shared electric car (Bluecar) in the city of Paris over the month of April 2018\n",
        "\n",
        "##Bonus Questions:\n",
        "\n",
        "a. What is the most popular hour for returning cars?\n",
        "\n",
        "b. What station is the most popular overall:\n",
        "         i. Overall?\n",
        "         ii. At the most popular picking hour?\n",
        "c. What postal code is the most popular for picking up Bluecars? Does the most popular station belong to that postal code?\n",
        "       i. Overall?\n",
        "       ii. At the most popular picking hour?\n",
        "\n",
        "d. Do the results change if you consider Utilib and Utilib 1.4 instead of Bluecars? (that could be asked earlier to push students to write modular code that can be used to query different things)"
      ]
    },
    {
      "cell_type": "markdown",
      "metadata": {
        "id": "92mmGzkx6bh0",
        "colab_type": "text"
      },
      "source": [
        "## <font color = \"green\"> Importing Libraries "
      ]
    },
    {
      "cell_type": "code",
      "metadata": {
        "id": "gksE14fZ6m2w",
        "colab_type": "code",
        "colab": {}
      },
      "source": [
        "# Let's import the pandas library and Numpy library\n",
        "# \n",
        "import pandas as pd\n",
        "\n",
        "import numpy as np\n",
        "\n",
        "import csv\n",
        "\n",
        "import sqlite3\n",
        "\n",
        "from sqlalchemy import create_engine\n",
        "\n"
      ],
      "execution_count": 0,
      "outputs": []
    },
    {
      "cell_type": "code",
      "metadata": {
        "id": "ZvV3nAfdw7SF",
        "colab_type": "code",
        "outputId": "66692c5d-7364-4dae-fdf5-68350ec51a46",
        "colab": {
          "base_uri": "https://localhost:8080/",
          "height": 198
        }
      },
      "source": [
        "import pandas as pd\n",
        "\n",
        "df_url = 'http://bit.ly/Autolibdataset'\n",
        "\n",
        "electriccar = pd.read_csv(df_url, index_col = 0, dtype = {'year':str,'month':str,'day':str,'hour':str,'minute':str })\n",
        "\n",
        "electriccar.tail(1)"
      ],
      "execution_count": 2,
      "outputs": [
        {
          "output_type": "stream",
          "text": [
            "/usr/local/lib/python3.6/dist-packages/numpy/lib/arraysetops.py:569: FutureWarning: elementwise comparison failed; returning scalar instead, but in the future will perform elementwise comparison\n",
            "  mask |= (ar1 == a)\n"
          ],
          "name": "stderr"
        },
        {
          "output_type": "execute_result",
          "data": {
            "text/html": [
              "<div>\n",
              "<style scoped>\n",
              "    .dataframe tbody tr th:only-of-type {\n",
              "        vertical-align: middle;\n",
              "    }\n",
              "\n",
              "    .dataframe tbody tr th {\n",
              "        vertical-align: top;\n",
              "    }\n",
              "\n",
              "    .dataframe thead th {\n",
              "        text-align: right;\n",
              "    }\n",
              "</style>\n",
              "<table border=\"1\" class=\"dataframe\">\n",
              "  <thead>\n",
              "    <tr style=\"text-align: right;\">\n",
              "      <th></th>\n",
              "      <th>Address</th>\n",
              "      <th>Cars</th>\n",
              "      <th>Bluecar counter</th>\n",
              "      <th>Utilib counter</th>\n",
              "      <th>Utilib 1.4 counter</th>\n",
              "      <th>Charge Slots</th>\n",
              "      <th>Charging Status</th>\n",
              "      <th>City</th>\n",
              "      <th>Displayed comment</th>\n",
              "      <th>ID</th>\n",
              "      <th>Kind</th>\n",
              "      <th>Geo point</th>\n",
              "      <th>Postal code</th>\n",
              "      <th>Public name</th>\n",
              "      <th>Rental status</th>\n",
              "      <th>Scheduled at</th>\n",
              "      <th>Slots</th>\n",
              "      <th>Station type</th>\n",
              "      <th>Status</th>\n",
              "      <th>Subscription status</th>\n",
              "      <th>year</th>\n",
              "      <th>month</th>\n",
              "      <th>day</th>\n",
              "      <th>hour</th>\n",
              "      <th>minute</th>\n",
              "    </tr>\n",
              "  </thead>\n",
              "  <tbody>\n",
              "    <tr>\n",
              "      <th>1072</th>\n",
              "      <td>1 rue AndrÃ© Theuriet</td>\n",
              "      <td>1</td>\n",
              "      <td>1</td>\n",
              "      <td>0</td>\n",
              "      <td>0</td>\n",
              "      <td>0</td>\n",
              "      <td>nonexistent</td>\n",
              "      <td>Bourg-la-Reine</td>\n",
              "      <td>NaN</td>\n",
              "      <td>bourglareine-andretheuriet-1</td>\n",
              "      <td>SPACE</td>\n",
              "      <td>48.7797297, 2.3131491</td>\n",
              "      <td>92340</td>\n",
              "      <td>Bourg-la-Reine/AndrÃ© Theuriet/1</td>\n",
              "      <td>operational</td>\n",
              "      <td>NaN</td>\n",
              "      <td>4</td>\n",
              "      <td>full_station</td>\n",
              "      <td>ok</td>\n",
              "      <td>operational</td>\n",
              "      <td>2018</td>\n",
              "      <td>04</td>\n",
              "      <td>09</td>\n",
              "      <td>23</td>\n",
              "      <td>59</td>\n",
              "    </tr>\n",
              "  </tbody>\n",
              "</table>\n",
              "</div>"
            ],
            "text/plain": [
              "                    Address  Cars  Bluecar counter  ...  day  hour  minute\n",
              "1072  1 rue AndrÃ© Theuriet     1                1  ...   09    23      59\n",
              "\n",
              "[1 rows x 25 columns]"
            ]
          },
          "metadata": {
            "tags": []
          },
          "execution_count": 2
        }
      ]
    },
    {
      "cell_type": "markdown",
      "metadata": {
        "id": "775VSmtnOdrp",
        "colab_type": "text"
      },
      "source": [
        "## <font color = \"brown\"> Data Cleaning"
      ]
    },
    {
      "cell_type": "markdown",
      "metadata": {
        "id": "CKKH1PbHp69I",
        "colab_type": "text"
      },
      "source": [
        "### <font color = 'blue'> Renaming columns"
      ]
    },
    {
      "cell_type": "code",
      "metadata": {
        "id": "FpAz4lNzVZY2",
        "colab_type": "code",
        "colab": {}
      },
      "source": [
        "# Renaming columns\n",
        "\n",
        "\n",
        "electriccar.columns= [\t'address'\t,'cars',\t'bluecar_counter',\t'Utilib_counter',\t'utilib__model_14_counter',\t'charge_slots',\t'charging_status',\t'city',\t'displayed_comment',\t'ID',\t'kind',\t'geo_point',\t'postal_code',\t'public_name',\t'rental_status',\t'scheduled_at',\t'slots',\t'station_type',\t'status',\t'subscription_status',\t'year',\t'month',\t'day',\t'hour',\t'minute']"
      ],
      "execution_count": 0,
      "outputs": []
    },
    {
      "cell_type": "code",
      "metadata": {
        "id": "UegT4k_lS46A",
        "colab_type": "code",
        "outputId": "46c945f0-7a3b-4af3-96b1-d50de0dd6d1c",
        "colab": {
          "base_uri": "https://localhost:8080/",
          "height": 34
        }
      },
      "source": [
        "# Shape of our dataset\n",
        "electriccar.shape"
      ],
      "execution_count": 0,
      "outputs": [
        {
          "output_type": "execute_result",
          "data": {
            "text/plain": [
              "(14421829, 25)"
            ]
          },
          "metadata": {
            "tags": []
          },
          "execution_count": 4
        }
      ]
    },
    {
      "cell_type": "markdown",
      "metadata": {
        "id": "t25vvxX4pdIN",
        "colab_type": "text"
      },
      "source": [
        "###<font color = 'blue'> dropping unnecessary columns "
      ]
    },
    {
      "cell_type": "code",
      "metadata": {
        "id": "Tu7UAVo4e45w",
        "colab_type": "code",
        "colab": {}
      },
      "source": [
        "# Dropping unnecessary columns\n",
        "\n",
        "electriccar.drop(['address','scheduled_at','displayed_comment','charge_slots','charging_status','geo_point'],axis=1, inplace = True)"
      ],
      "execution_count": 0,
      "outputs": []
    },
    {
      "cell_type": "code",
      "metadata": {
        "id": "bSU-y0Qct7WS",
        "colab_type": "code",
        "colab": {}
      },
      "source": [
        "# Dropping extra columns\n",
        "\n",
        "electriccar.drop(['slots','kind','status','subscription_status','station_type','rental_status'],axis = 1, inplace = True)"
      ],
      "execution_count": 0,
      "outputs": []
    },
    {
      "cell_type": "markdown",
      "metadata": {
        "id": "ZPrMUnkHpKWp",
        "colab_type": "text"
      },
      "source": [
        "###<font color = 'blue'> merging date and time values to date_time format"
      ]
    },
    {
      "cell_type": "code",
      "metadata": {
        "id": "fr3-ccnK2dc2",
        "colab_type": "code",
        "colab": {}
      },
      "source": [
        "electriccar['date'] = electriccar.year.str.cat([electriccar.month,electriccar.day], sep = '/')"
      ],
      "execution_count": 0,
      "outputs": []
    },
    {
      "cell_type": "code",
      "metadata": {
        "id": "peGZWBN3ugaD",
        "colab_type": "code",
        "colab": {}
      },
      "source": [
        "electriccar['time'] = electriccar.hour.str.cat([electriccar.minute], sep = ':')"
      ],
      "execution_count": 0,
      "outputs": []
    },
    {
      "cell_type": "code",
      "metadata": {
        "id": "lmIJdzBJvQS8",
        "colab_type": "code",
        "colab": {}
      },
      "source": [
        "electriccar['date_time'] = electriccar.date.str.cat([electriccar.time], sep = ' ')"
      ],
      "execution_count": 0,
      "outputs": []
    },
    {
      "cell_type": "code",
      "metadata": {
        "id": "F8zm9u8_DH9X",
        "colab_type": "code",
        "colab": {}
      },
      "source": [
        "electriccar.drop(['year','month',\t'day', 'minute','hour',\t'date',\t'time'],axis = 1, inplace = True)"
      ],
      "execution_count": 0,
      "outputs": []
    },
    {
      "cell_type": "markdown",
      "metadata": {
        "id": "JoY6WXn7qEfY",
        "colab_type": "text"
      },
      "source": [
        "###<font color = 'blue'> sampling values"
      ]
    },
    {
      "cell_type": "code",
      "metadata": {
        "id": "BHK1FDM4jtP_",
        "colab_type": "code",
        "colab": {}
      },
      "source": [
        "electriccar = electriccar.sample(5000000, replace = True, random_state = 0 )\n"
      ],
      "execution_count": 0,
      "outputs": []
    },
    {
      "cell_type": "markdown",
      "metadata": {
        "id": "L5gXVL3GrQC4",
        "colab_type": "text"
      },
      "source": [
        "### <font color = 'blue'> saving cleaned data to csv"
      ]
    },
    {
      "cell_type": "code",
      "metadata": {
        "id": "HEgVv8w8q792",
        "colab_type": "code",
        "colab": {}
      },
      "source": [
        "electriccar.to_csv('electriccar_clean.csv')"
      ],
      "execution_count": 0,
      "outputs": []
    },
    {
      "cell_type": "markdown",
      "metadata": {
        "id": "ShtY6cgTrbkP",
        "colab_type": "text"
      },
      "source": [
        "### <font color = 'blue'> loading our dataset to a csv database "
      ]
    },
    {
      "cell_type": "code",
      "metadata": {
        "id": "rB--fFWqrVbQ",
        "colab_type": "code",
        "outputId": "9c4ad5ab-c040-4795-faeb-788e7ee487e1",
        "colab": {
          "base_uri": "https://localhost:8080/",
          "height": 101
        }
      },
      "source": [
        "import os\n",
        "\n",
        "csv_database = create_engine('sqlite:////csv_database.db')\n",
        "chunk_size = 1000000\n",
        "i = 0\n",
        "j = 0\n",
        "for df in pd.read_csv('electriccar_clean.csv', chunksize = chunk_size, iterator = True):\n",
        "  df = df.rename(columns = {c: c.replace(' ','') for c in df.columns})\n",
        "  df.index += j\n",
        "  \n",
        "  df.to_sql('electriccar', csv_database, if_exists = 'append' )\n",
        "  j = df.index[-1]+1\n",
        "  \n",
        "  print(' | index: {}'.format(j))"
      ],
      "execution_count": 12,
      "outputs": [
        {
          "output_type": "stream",
          "text": [
            " | index: 1000000\n",
            " | index: 3000000\n",
            " | index: 6000000\n",
            " | index: 10000000\n",
            " | index: 15000000\n"
          ],
          "name": "stdout"
        }
      ]
    },
    {
      "cell_type": "code",
      "metadata": {
        "id": "6GUOLqbSaok8",
        "colab_type": "code",
        "colab": {}
      },
      "source": [
        "csv_database = create_engine('sqlite:////csv_database.db')\n",
        "electriccar.to_sql('electriccar', csv_database, if_exists = 'append' )"
      ],
      "execution_count": 0,
      "outputs": []
    },
    {
      "cell_type": "markdown",
      "metadata": {
        "id": "sbdh23lPrrC9",
        "colab_type": "text"
      },
      "source": [
        "### <font color = 'blue'> retrieving data from database"
      ]
    },
    {
      "cell_type": "code",
      "metadata": {
        "id": "HeXkoCHQhx4Y",
        "colab_type": "code",
        "colab": {}
      },
      "source": [
        "electriccar = pd.read_sql_query('SELECT * from electriccar WHERE city == \"Paris\" ', csv_database)"
      ],
      "execution_count": 0,
      "outputs": []
    },
    {
      "cell_type": "code",
      "metadata": {
        "id": "C_VQa7yRTLpG",
        "colab_type": "code",
        "outputId": "b1020541-35d6-4ac7-e696-ca6107f008ca",
        "colab": {
          "base_uri": "https://localhost:8080/",
          "height": 34
        }
      },
      "source": [
        "electriccar.city.unique()"
      ],
      "execution_count": 14,
      "outputs": [
        {
          "output_type": "execute_result",
          "data": {
            "text/plain": [
              "array(['Paris'], dtype=object)"
            ]
          },
          "metadata": {
            "tags": []
          },
          "execution_count": 14
        }
      ]
    },
    {
      "cell_type": "code",
      "metadata": {
        "id": "h6gROLksoKHW",
        "colab_type": "code",
        "colab": {
          "base_uri": "https://localhost:8080/",
          "height": 130
        },
        "outputId": "e9e70716-f997-4cf7-ce4b-d7f56b4f5290"
      },
      "source": [
        "electriccar.tail(1)"
      ],
      "execution_count": 15,
      "outputs": [
        {
          "output_type": "execute_result",
          "data": {
            "text/html": [
              "<div>\n",
              "<style scoped>\n",
              "    .dataframe tbody tr th:only-of-type {\n",
              "        vertical-align: middle;\n",
              "    }\n",
              "\n",
              "    .dataframe tbody tr th {\n",
              "        vertical-align: top;\n",
              "    }\n",
              "\n",
              "    .dataframe thead th {\n",
              "        text-align: right;\n",
              "    }\n",
              "</style>\n",
              "<table border=\"1\" class=\"dataframe\">\n",
              "  <thead>\n",
              "    <tr style=\"text-align: right;\">\n",
              "      <th></th>\n",
              "      <th>index</th>\n",
              "      <th>Unnamed:0</th>\n",
              "      <th>cars</th>\n",
              "      <th>bluecar_counter</th>\n",
              "      <th>Utilib_counter</th>\n",
              "      <th>utilib__model_14_counter</th>\n",
              "      <th>city</th>\n",
              "      <th>ID</th>\n",
              "      <th>postal_code</th>\n",
              "      <th>public_name</th>\n",
              "      <th>date_time</th>\n",
              "    </tr>\n",
              "  </thead>\n",
              "  <tbody>\n",
              "    <tr>\n",
              "      <th>2730171</th>\n",
              "      <td>14999999</td>\n",
              "      <td>877</td>\n",
              "      <td>6</td>\n",
              "      <td>6</td>\n",
              "      <td>0</td>\n",
              "      <td>0</td>\n",
              "      <td>Paris</td>\n",
              "      <td>paris-jonquiere-66</td>\n",
              "      <td>75017</td>\n",
              "      <td>Paris/JonquiÃ¨re/66</td>\n",
              "      <td>2018/04/04 02:57</td>\n",
              "    </tr>\n",
              "  </tbody>\n",
              "</table>\n",
              "</div>"
            ],
            "text/plain": [
              "            index  Unnamed:0  ...          public_name         date_time\n",
              "2730171  14999999        877  ...  Paris/JonquiÃ¨re/66  2018/04/04 02:57\n",
              "\n",
              "[1 rows x 11 columns]"
            ]
          },
          "metadata": {
            "tags": []
          },
          "execution_count": 15
        }
      ]
    },
    {
      "cell_type": "code",
      "metadata": {
        "id": "gidHktFXPiRJ",
        "colab_type": "code",
        "colab": {}
      },
      "source": [
        "electriccar.drop(['index',\t'Unnamed:0'],axis = 1, inplace = True)"
      ],
      "execution_count": 0,
      "outputs": []
    },
    {
      "cell_type": "code",
      "metadata": {
        "id": "UadUtVQrAX-N",
        "colab_type": "code",
        "colab": {}
      },
      "source": [
        "electriccar = electriccar.to_csv('electriccar_final.csv')"
      ],
      "execution_count": 0,
      "outputs": []
    },
    {
      "cell_type": "markdown",
      "metadata": {
        "id": "1AyWrzbwQC02",
        "colab_type": "text"
      },
      "source": [
        "## <font color = brown> Analysis"
      ]
    },
    {
      "cell_type": "markdown",
      "metadata": {
        "id": "_WJxG3cgVgTl",
        "colab_type": "text"
      },
      "source": [
        "###<font color = 'blue'> loading our dataset"
      ]
    },
    {
      "cell_type": "code",
      "metadata": {
        "id": "ww-8r9zl2RVq",
        "colab_type": "code",
        "outputId": "6971876e-be81-4bad-8062-10b1d15d9f41",
        "colab": {
          "base_uri": "https://localhost:8080/",
          "height": 34
        }
      },
      "source": [
        "pip install chardet"
      ],
      "execution_count": 0,
      "outputs": [
        {
          "output_type": "stream",
          "text": [
            "Requirement already satisfied: chardet in /usr/local/lib/python3.6/dist-packages (3.0.4)\n"
          ],
          "name": "stdout"
        }
      ]
    },
    {
      "cell_type": "code",
      "metadata": {
        "id": "Ddhcf30_2coB",
        "colab_type": "code",
        "colab": {}
      },
      "source": [
        "# Lets find out which encoding our file has been saved in.\n",
        "\n",
        "import chardet\n",
        "import pandas as pd\n",
        "\n",
        "def find_encoding(fname):\n",
        "  r_file = open(fname, 'rb').read()\n",
        "  result = chardet.detect(r_file)\n",
        "  charenc = result['encoding']\n",
        "  return charenc\n",
        "\n",
        "my_encoding = find_encoding('electriccar_final.csv')"
      ],
      "execution_count": 0,
      "outputs": []
    },
    {
      "cell_type": "code",
      "metadata": {
        "id": "jpLVS2wn-kXh",
        "colab_type": "code",
        "outputId": "ba8369d9-53fc-489f-8a9d-4b35b46e9d0e",
        "colab": {
          "base_uri": "https://localhost:8080/",
          "height": 70
        }
      },
      "source": [
        "# Lets load our data from our saved csv file\n",
        "\n",
        "\n",
        "with open ('electriccar_final.csv', 'r') as f:\n",
        "  electriccar = pd.read_csv(f, parse_dates = ['date_time'], infer_datetime_format = True, index_col = 0)"
      ],
      "execution_count": 133,
      "outputs": [
        {
          "output_type": "stream",
          "text": [
            "/usr/local/lib/python3.6/dist-packages/numpy/lib/arraysetops.py:569: FutureWarning: elementwise comparison failed; returning scalar instead, but in the future will perform elementwise comparison\n",
            "  mask |= (ar1 == a)\n"
          ],
          "name": "stderr"
        }
      ]
    },
    {
      "cell_type": "code",
      "metadata": {
        "id": "aS_632xoMy_2",
        "colab_type": "code",
        "colab": {}
      },
      "source": [
        "electriccar.drop(['Unnamed: 0'],axis = 1, inplace = True)"
      ],
      "execution_count": 0,
      "outputs": []
    },
    {
      "cell_type": "code",
      "metadata": {
        "id": "s7attxlulVQD",
        "colab_type": "code",
        "outputId": "548a6743-939d-4912-83f5-a5cefef062b8",
        "colab": {
          "base_uri": "https://localhost:8080/",
          "height": 168
        }
      },
      "source": [
        "# Here we check for the row count per column\n",
        "\n",
        "electriccar.count()"
      ],
      "execution_count": 93,
      "outputs": [
        {
          "output_type": "execute_result",
          "data": {
            "text/plain": [
              "cars                        2730172\n",
              "bluecar_counter             2730172\n",
              "Utilib_counter              2730172\n",
              "utilib__model_14_counter    2730172\n",
              "city                        2730172\n",
              "ID                          2730172\n",
              "postal_code                 2730172\n",
              "public_name                 2730172\n",
              "dtype: int64"
            ]
          },
          "metadata": {
            "tags": []
          },
          "execution_count": 93
        }
      ]
    },
    {
      "cell_type": "code",
      "metadata": {
        "id": "Oo8kepvu_KB7",
        "colab_type": "code",
        "outputId": "8002932e-1226-43b1-b6c6-15295d5d01d8",
        "colab": {
          "base_uri": "https://localhost:8080/",
          "height": 168
        }
      },
      "source": [
        "# Lets check for our column types\n",
        "\n",
        "electriccar.dtypes"
      ],
      "execution_count": 94,
      "outputs": [
        {
          "output_type": "execute_result",
          "data": {
            "text/plain": [
              "cars                         int64\n",
              "bluecar_counter              int64\n",
              "Utilib_counter               int64\n",
              "utilib__model_14_counter     int64\n",
              "city                        object\n",
              "ID                          object\n",
              "postal_code                  int64\n",
              "public_name                 object\n",
              "dtype: object"
            ]
          },
          "metadata": {
            "tags": []
          },
          "execution_count": 94
        }
      ]
    },
    {
      "cell_type": "code",
      "metadata": {
        "id": "Ne8FJXJDJCvv",
        "colab_type": "code",
        "colab": {}
      },
      "source": [
        "electriccar['total_cars'] = electriccar.iloc[:,0:4].sum(axis =1)"
      ],
      "execution_count": 0,
      "outputs": []
    },
    {
      "cell_type": "markdown",
      "metadata": {
        "id": "PTT_hbeueHEc",
        "colab_type": "text"
      },
      "source": [
        "### <font color = 'blue'> analysing column for trends"
      ]
    },
    {
      "cell_type": "code",
      "metadata": {
        "id": "aAhxyI5xa3AQ",
        "colab_type": "code",
        "outputId": "d4c9af55-674e-4b97-ded9-045af7e53c03",
        "colab": {
          "base_uri": "https://localhost:8080/",
          "height": 454
        }
      },
      "source": [
        "# What is the most popular hour for returning cars\n",
        "\n",
        "x = electriccar.groupby([electriccar.date_time.dt.hour])['total_cars'].sum()\n",
        "print(x)\n",
        "#.plot(kind = 'bar')\n",
        "#.sort_values(ascending =False)\n",
        "\n",
        "                                                            "
      ],
      "execution_count": 146,
      "outputs": [
        {
          "output_type": "stream",
          "text": [
            "date_time\n",
            "0     405776\n",
            "1     414944\n",
            "2     462824\n",
            "3     470822\n",
            "4     467608\n",
            "5     478472\n",
            "6     481281\n",
            "7     469258\n",
            "8     436263\n",
            "9     437904\n",
            "10    454779\n",
            "11    446793\n",
            "12    417101\n",
            "13    424026\n",
            "14    428365\n",
            "15    417357\n",
            "16    409455\n",
            "17    399432\n",
            "18    390098\n",
            "19    377522\n",
            "20    404413\n",
            "21    454581\n",
            "22    442954\n",
            "23    404166\n",
            "Name: total_cars, dtype: int64\n"
          ],
          "name": "stdout"
        }
      ]
    },
    {
      "cell_type": "code",
      "metadata": {
        "id": "nYibRvzC_B2T",
        "colab_type": "code",
        "colab": {
          "base_uri": "https://localhost:8080/",
          "height": 302
        },
        "outputId": "23393157-930d-4281-cffe-c02bbfda5ea9"
      },
      "source": [
        "x.diff().sort_values(ascending = False).plot(kind = 'bar')"
      ],
      "execution_count": 149,
      "outputs": [
        {
          "output_type": "execute_result",
          "data": {
            "text/plain": [
              "<matplotlib.axes._subplots.AxesSubplot at 0x7fa219400e80>"
            ]
          },
          "metadata": {
            "tags": []
          },
          "execution_count": 149
        },
        {
          "output_type": "display_data",
          "data": {
            "image/png": "[encoded data removed]",
            "text/plain": [
              "<Figure size 432x288 with 1 Axes>"
            ]
          },
          "metadata": {
            "tags": []
          }
        }
      ]
    },
    {
      "cell_type": "code",
      "metadata": {
        "id": "tEoX2ACjGuAC",
        "colab_type": "code",
        "outputId": "f0830dec-c79b-4fea-89a6-c621214c1845",
        "colab": {
          "base_uri": "https://localhost:8080/",
          "height": 134
        }
      },
      "source": [
        "# Most popular station overall\n",
        "\n",
        "electriccar.groupby(['ID','postal_code' ])['total_cars'].sum().sort_values(ascending = False).head(5)"
      ],
      "execution_count": 151,
      "outputs": [
        {
          "output_type": "execute_result",
          "data": {
            "text/plain": [
              "ID                               postal_code\n",
              "paris-portesaintcloud-parking    75016          47824\n",
              "paris-versaillesreynaud-parking  75016          47406\n",
              "paris-picpusnation-parking       75012          45498\n",
              "paris-gouvionmaillot-parking     75017          41535\n",
              "paris-henrimartin-70             75116          41500\n",
              "Name: total_cars, dtype: int64"
            ]
          },
          "metadata": {
            "tags": []
          },
          "execution_count": 151
        }
      ]
    },
    {
      "cell_type": "code",
      "metadata": {
        "id": "aOCqxyj_35sT",
        "colab_type": "code",
        "colab": {
          "base_uri": "https://localhost:8080/",
          "height": 101
        },
        "outputId": "11b20ae2-2eeb-42dd-b130-9508fc010c1a"
      },
      "source": [
        "# Most popular station at most popular picking hour\n",
        "\n",
        "\n",
        "electriccar.between_time('22:00','23:59').groupby(['ID'])['total_cars'].sum().sort_values(ascending = False).head(3)"
      ],
      "execution_count": 127,
      "outputs": [
        {
          "output_type": "execute_result",
          "data": {
            "text/plain": [
              "ID\n",
              "paris-renault-2         4147\n",
              "paris-botzaris-50       3979\n",
              "paris-ternes-parking    3628\n",
              "Name: total_cars, dtype: int64"
            ]
          },
          "metadata": {
            "tags": []
          },
          "execution_count": 127
        }
      ]
    },
    {
      "cell_type": "code",
      "metadata": {
        "id": "myzSoFt0A7n7",
        "colab_type": "code",
        "outputId": "a113522c-82f7-46d8-8399-e6f7f3e063da",
        "colab": {
          "base_uri": "https://localhost:8080/",
          "height": 269
        }
      },
      "source": [
        "# Most popular postal code for picking up Bluecars Overall\n",
        "\n",
        "\n",
        "electriccar.groupby(['postal_code'])['bluecar_counter'].sum().sort_values(ascending = False).head(13)"
      ],
      "execution_count": 103,
      "outputs": [
        {
          "output_type": "execute_result",
          "data": {
            "text/plain": [
              "postal_code\n",
              "75015    600717\n",
              "75016    579580\n",
              "75017    464375\n",
              "75020    453767\n",
              "75019    368776\n",
              "75013    335130\n",
              "75012    307955\n",
              "75014    296913\n",
              "75018    292279\n",
              "75011    278492\n",
              "75010    176941\n",
              "75008    172646\n",
              "75007    145200\n",
              "Name: bluecar_counter, dtype: int64"
            ]
          },
          "metadata": {
            "tags": []
          },
          "execution_count": 103
        }
      ]
    },
    {
      "cell_type": "code",
      "metadata": {
        "id": "FU_p4Id_TXf_",
        "colab_type": "code",
        "colab": {
          "base_uri": "https://localhost:8080/",
          "height": 386
        },
        "outputId": "fc4464b5-08e2-4c86-fdac-59e7835a9b3b"
      },
      "source": [
        "# Most popular postal code for picking up Bluecars at most popular car picking hour\n",
        "\n",
        "\n",
        "electriccar.between_time('22:00','23:59').groupby(['postal_code'])['bluecar_counter'].sum().sort_values(ascending = False).head(20)"
      ],
      "execution_count": 128,
      "outputs": [
        {
          "output_type": "execute_result",
          "data": {
            "text/plain": [
              "postal_code\n",
              "75015    46995\n",
              "75017    41803\n",
              "75020    41377\n",
              "75016    40637\n",
              "75019    33142\n",
              "75018    31782\n",
              "75011    28706\n",
              "75013    24190\n",
              "75014    22223\n",
              "75012    22051\n",
              "75010    15089\n",
              "75009    12102\n",
              "75005    11132\n",
              "75007     8885\n",
              "75008     7516\n",
              "75003     7189\n",
              "75006     3531\n",
              "75004     2639\n",
              "75002     1832\n",
              "75116     1481\n",
              "Name: bluecar_counter, dtype: int64"
            ]
          },
          "metadata": {
            "tags": []
          },
          "execution_count": 128
        }
      ]
    },
    {
      "cell_type": "code",
      "metadata": {
        "id": "7rYH8_8wUKB2",
        "colab_type": "code",
        "colab": {
          "base_uri": "https://localhost:8080/",
          "height": 386
        },
        "outputId": "0d345859-cf3a-4acc-fd37-7bd587a45b6e"
      },
      "source": [
        "# Most popular postal code for picking up Utilib Overall\n",
        "\n",
        "\n",
        "electriccar.groupby(['postal_code'])['Utilib_counter'].sum().sort_values(ascending = False).head(20)"
      ],
      "execution_count": 107,
      "outputs": [
        {
          "output_type": "execute_result",
          "data": {
            "text/plain": [
              "postal_code\n",
              "75015    19180\n",
              "75016    17549\n",
              "75017    12153\n",
              "75013    11899\n",
              "75020    11169\n",
              "75014    10873\n",
              "75019     8839\n",
              "75012     7591\n",
              "75008     7541\n",
              "75018     7016\n",
              "75011     6536\n",
              "75007     5224\n",
              "75009     5106\n",
              "75010     3974\n",
              "75005     2819\n",
              "75002     1878\n",
              "75003     1861\n",
              "75004     1400\n",
              "75006     1215\n",
              "75001      880\n",
              "Name: Utilib_counter, dtype: int64"
            ]
          },
          "metadata": {
            "tags": []
          },
          "execution_count": 107
        }
      ]
    },
    {
      "cell_type": "code",
      "metadata": {
        "id": "YJy5tAIHUaIy",
        "colab_type": "code",
        "colab": {
          "base_uri": "https://localhost:8080/",
          "height": 386
        },
        "outputId": "aa144041-0a3f-4aab-b36b-e5d119920f49"
      },
      "source": [
        "# Most popular postal code for picking up Utilib at the most popular car picking hour\n",
        "\n",
        "\n",
        "electriccar.between_time('22:00','23:59').groupby(['postal_code'])['Utilib_counter'].sum().sort_values(ascending = False).head(20)"
      ],
      "execution_count": 129,
      "outputs": [
        {
          "output_type": "execute_result",
          "data": {
            "text/plain": [
              "postal_code\n",
              "75015    1406\n",
              "75016    1207\n",
              "75017    1058\n",
              "75020     946\n",
              "75014     863\n",
              "75019     836\n",
              "75013     672\n",
              "75018     633\n",
              "75010     509\n",
              "75011     495\n",
              "75007     465\n",
              "75009     402\n",
              "75012     331\n",
              "75008     231\n",
              "75006     198\n",
              "75005     189\n",
              "75001     122\n",
              "75003     100\n",
              "75004      74\n",
              "75002      30\n",
              "Name: Utilib_counter, dtype: int64"
            ]
          },
          "metadata": {
            "tags": []
          },
          "execution_count": 129
        }
      ]
    },
    {
      "cell_type": "markdown",
      "metadata": {
        "id": "iDEREL9xeTGc",
        "colab_type": "text"
      },
      "source": [
        "###<font color = 'blue'> final results"
      ]
    },
    {
      "cell_type": "code",
      "metadata": {
        "id": "5MwSJEpQW3Na",
        "colab_type": "code",
        "colab": {
          "base_uri": "https://localhost:8080/",
          "height": 284
        },
        "outputId": "d4985944-5896-4e82-f889-cdef9494de07"
      },
      "source": [
        "# The most popular hour of the day for picking up a shared electric car (Bluecar) in the city of Paris over the month of April 2018\n",
        "\n",
        "y = electriccar.groupby([electriccar.date_time.dt.hour])['bluecar_counter'].sum().plot()\n"
      ],
      "execution_count": 142,
      "outputs": [
        {
          "output_type": "display_data",
          "data": {
            "image/png": "[encoded data removed]",
            "text/plain": [
              "<Figure size 432x288 with 1 Axes>"
            ]
          },
          "metadata": {
            "tags": []
          }
        }
      ]
    },
    {
      "cell_type": "code",
      "metadata": {
        "id": "2N_jElWe9koe",
        "colab_type": "code",
        "colab": {
          "base_uri": "https://localhost:8080/",
          "height": 454
        },
        "outputId": "45cfc5e9-e479-47e1-cb40-fc7057d4accc"
      },
      "source": [
        "y.diff().sort_values(ascending = False)"
      ],
      "execution_count": 141,
      "outputs": [
        {
          "output_type": "execute_result",
          "data": {
            "text/plain": [
              "date_time\n",
              "21    24495.0\n",
              "2     23026.0\n",
              "20    12898.0\n",
              "10     7944.0\n",
              "5      5216.0\n",
              "1      4608.0\n",
              "3      4018.0\n",
              "13     3146.0\n",
              "14     2143.0\n",
              "6      1179.0\n",
              "9       808.0\n",
              "4     -1830.0\n",
              "11    -3562.0\n",
              "16    -3997.0\n",
              "18    -4351.0\n",
              "15    -4966.0\n",
              "17    -4967.0\n",
              "22    -5481.0\n",
              "19    -6072.0\n",
              "7     -6226.0\n",
              "12   -13939.0\n",
              "8    -15955.0\n",
              "23   -18661.0\n",
              "0         NaN\n",
              "Name: bluecar_counter, dtype: float64"
            ]
          },
          "metadata": {
            "tags": []
          },
          "execution_count": 141
        }
      ]
    },
    {
      "cell_type": "code",
      "metadata": {
        "id": "eFoO7wGfC1kw",
        "colab_type": "code",
        "outputId": "fb3a6a7c-8936-412a-9bb6-3c3fde84186e",
        "colab": {
          "base_uri": "https://localhost:8080/",
          "height": 539
        }
      },
      "source": [
        "# Preview of final dataset\n",
        "electriccar[0:7]"
      ],
      "execution_count": 130,
      "outputs": [
        {
          "output_type": "execute_result",
          "data": {
            "text/html": [
              "<div>\n",
              "<style scoped>\n",
              "    .dataframe tbody tr th:only-of-type {\n",
              "        vertical-align: middle;\n",
              "    }\n",
              "\n",
              "    .dataframe tbody tr th {\n",
              "        vertical-align: top;\n",
              "    }\n",
              "\n",
              "    .dataframe thead th {\n",
              "        text-align: right;\n",
              "    }\n",
              "</style>\n",
              "<table border=\"1\" class=\"dataframe\">\n",
              "  <thead>\n",
              "    <tr style=\"text-align: right;\">\n",
              "      <th></th>\n",
              "      <th>cars</th>\n",
              "      <th>bluecar_counter</th>\n",
              "      <th>Utilib_counter</th>\n",
              "      <th>utilib__model_14_counter</th>\n",
              "      <th>city</th>\n",
              "      <th>ID</th>\n",
              "      <th>postal_code</th>\n",
              "      <th>public_name</th>\n",
              "      <th>total_cars</th>\n",
              "    </tr>\n",
              "    <tr>\n",
              "      <th>date_time</th>\n",
              "      <th></th>\n",
              "      <th></th>\n",
              "      <th></th>\n",
              "      <th></th>\n",
              "      <th></th>\n",
              "      <th></th>\n",
              "      <th></th>\n",
              "      <th></th>\n",
              "      <th></th>\n",
              "    </tr>\n",
              "  </thead>\n",
              "  <tbody>\n",
              "    <tr>\n",
              "      <th>2018-04-06 02:48:00</th>\n",
              "      <td>0</td>\n",
              "      <td>0</td>\n",
              "      <td>0</td>\n",
              "      <td>0</td>\n",
              "      <td>Paris</td>\n",
              "      <td>paris-clichy-181</td>\n",
              "      <td>75017</td>\n",
              "      <td>Paris/Clichy/181</td>\n",
              "      <td>0</td>\n",
              "    </tr>\n",
              "    <tr>\n",
              "      <th>2018-04-01 21:53:00</th>\n",
              "      <td>0</td>\n",
              "      <td>0</td>\n",
              "      <td>0</td>\n",
              "      <td>0</td>\n",
              "      <td>Paris</td>\n",
              "      <td>paris-victoire-76</td>\n",
              "      <td>75009</td>\n",
              "      <td>Paris/Victoire/76</td>\n",
              "      <td>0</td>\n",
              "    </tr>\n",
              "    <tr>\n",
              "      <th>2018-04-06 01:16:00</th>\n",
              "      <td>4</td>\n",
              "      <td>4</td>\n",
              "      <td>0</td>\n",
              "      <td>0</td>\n",
              "      <td>Paris</td>\n",
              "      <td>paris-vauvenargues-35</td>\n",
              "      <td>75018</td>\n",
              "      <td>Paris/Vauvenargues/35</td>\n",
              "      <td>8</td>\n",
              "    </tr>\n",
              "    <tr>\n",
              "      <th>2018-04-05 16:45:00</th>\n",
              "      <td>1</td>\n",
              "      <td>1</td>\n",
              "      <td>0</td>\n",
              "      <td>0</td>\n",
              "      <td>Paris</td>\n",
              "      <td>paris-reuilly-116</td>\n",
              "      <td>75012</td>\n",
              "      <td>Paris/Reuilly/116</td>\n",
              "      <td>2</td>\n",
              "    </tr>\n",
              "    <tr>\n",
              "      <th>2018-04-04 14:20:00</th>\n",
              "      <td>0</td>\n",
              "      <td>0</td>\n",
              "      <td>0</td>\n",
              "      <td>0</td>\n",
              "      <td>Paris</td>\n",
              "      <td>paris-pontlouisphilippe-24</td>\n",
              "      <td>75004</td>\n",
              "      <td>Paris/Pont Louis-Philippe/24</td>\n",
              "      <td>0</td>\n",
              "    </tr>\n",
              "    <tr>\n",
              "      <th>2018-04-01 05:31:00</th>\n",
              "      <td>0</td>\n",
              "      <td>0</td>\n",
              "      <td>0</td>\n",
              "      <td>0</td>\n",
              "      <td>Paris</td>\n",
              "      <td>paris-iena-24</td>\n",
              "      <td>75016</td>\n",
              "      <td>Paris/IÃ©na/24</td>\n",
              "      <td>0</td>\n",
              "    </tr>\n",
              "    <tr>\n",
              "      <th>2018-04-04 00:43:00</th>\n",
              "      <td>3</td>\n",
              "      <td>3</td>\n",
              "      <td>0</td>\n",
              "      <td>0</td>\n",
              "      <td>Paris</td>\n",
              "      <td>paris-jeandelafontaine-42</td>\n",
              "      <td>75016</td>\n",
              "      <td>Paris/Jean de la Fontaine/42</td>\n",
              "      <td>6</td>\n",
              "    </tr>\n",
              "  </tbody>\n",
              "</table>\n",
              "</div>"
            ],
            "text/plain": [
              "                     cars  ...  total_cars\n",
              "date_time                  ...            \n",
              "2018-04-06 02:48:00     0  ...           0\n",
              "2018-04-01 21:53:00     0  ...           0\n",
              "2018-04-06 01:16:00     4  ...           8\n",
              "2018-04-05 16:45:00     1  ...           2\n",
              "2018-04-04 14:20:00     0  ...           0\n",
              "2018-04-01 05:31:00     0  ...           0\n",
              "2018-04-04 00:43:00     3  ...           6\n",
              "\n",
              "[7 rows x 9 columns]"
            ]
          },
          "metadata": {
            "tags": []
          },
          "execution_count": 130
        }
      ]
    },
    {
      "cell_type": "code",
      "metadata": {
        "id": "w0XgTCSFVcwK",
        "colab_type": "code",
        "colab": {}
      },
      "source": [
        ""
      ],
      "execution_count": 0,
      "outputs": []
    }
  ]
}